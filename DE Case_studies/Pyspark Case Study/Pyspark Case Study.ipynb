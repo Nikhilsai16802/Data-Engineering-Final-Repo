{
 "cells": [
  {
   "cell_type": "code",
   "execution_count": 0,
   "metadata": {
    "application/vnd.databricks.v1+cell": {
     "cellMetadata": {
      "byteLimit": 2048000,
      "rowLimit": 10000
     },
     "inputWidgets": {},
     "nuid": "fced68ed-e849-4f3a-bb71-85cb4ac6e48a",
     "showTitle": false,
     "tableResultSettingsMap": {},
     "title": ""
    }
   },
   "outputs": [],
   "source": [
    "from pyspark.sql import SparkSession\n",
    "spark = SparkSession.builder.appName('pyspark-case_study').getOrCreate()\n",
    "credit =spark.read.csv(\"/FileStore/tables/credit_card.csv\", header=True, inferSchema=True)  #original table name = credid_card.csv\n",
    "loan = spark.read.csv(\"/FileStore/tables/loan.csv\", header=True, inferSchema= True)   #original table name = loan_csv\n",
    "txn= spark.read.csv(\"/FileStore/tables/txn.csv\", header= True, inferSchema= True)     #original table name = txn_csv\n",
    "\n",
    "credit.createOrReplaceTempView(\"credit\")\n",
    "loan.createOrReplaceTempView(\"loan\")\n",
    "txn.createOrReplaceTempView(\"txn\")\n"
   ]
  },
  {
   "cell_type": "code",
   "execution_count": 0,
   "metadata": {
    "application/vnd.databricks.v1+cell": {
     "cellMetadata": {
      "byteLimit": 2048000,
      "rowLimit": 10000
     },
     "inputWidgets": {},
     "nuid": "b5c7947c-2a7a-4861-8d09-c2f5a27c46eb",
     "showTitle": false,
     "tableResultSettingsMap": {},
     "title": ""
    }
   },
   "outputs": [
    {
     "output_type": "stream",
     "name": "stdout",
     "output_type": "stream",
     "text": [
      "+-----+------------------+\n|count|     Loan Category|\n+-----+------------------+\n|    7|       BOOK STORES|\n|    7|          BUILDING|\n|   12|       AGRICULTURE|\n|   14|           DINNING|\n|   14|       ELECTRONICS|\n|   14|   HOME APPLIANCES|\n|   20|  EDUCATIONAL LOAN|\n|   20|        RESTAURANT|\n|   24|          BUSINESS|\n|   35|COMPUTER SOFTWARES|\n|   35|          SHOPPING|\n|   41|       RESTAURANTS|\n|   53|        TRAVELLING|\n|   60|        AUTOMOBILE|\n|   67|           HOUSING|\n|   77|         GOLD LOAN|\n+-----+------------------+\n\n"
     ]
    }
   ],
   "source": [
    "#no.of loans in each category\n",
    "spark.sql(\"select count(*) as count, `Loan Category` from loan GROUP BY `Loan Category` Order by count asc\").show()\n"
   ]
  },
  {
   "cell_type": "code",
   "execution_count": 0,
   "metadata": {
    "application/vnd.databricks.v1+cell": {
     "cellMetadata": {
      "byteLimit": 2048000,
      "rowLimit": 10000
     },
     "inputWidgets": {},
     "nuid": "037cba91-19c9-4d1e-80bd-6bce3bc3f218",
     "showTitle": false,
     "tableResultSettingsMap": {},
     "title": ""
    }
   },
   "outputs": [
    {
     "output_type": "stream",
     "name": "stdout",
     "output_type": "stream",
     "text": [
      "people who took loan greather than 1 lakh:  279\n"
     ]
    }
   ],
   "source": [
    "#number of people with Loan amount than 100000 rupees\n",
    "onelakh_loan= loan.filter(loan[\"Loan Amount\"] > '100000').count()\n",
    "print('people who took loan greather than 1 lakh: ', onelakh_loan)"
   ]
  },
  {
   "cell_type": "code",
   "execution_count": 0,
   "metadata": {
    "application/vnd.databricks.v1+cell": {
     "cellMetadata": {
      "byteLimit": 2048000,
      "rowLimit": 10000
     },
     "inputWidgets": {},
     "nuid": "e0729dd9-2bf4-4fdd-9b0b-7b70fabb8234",
     "showTitle": false,
     "tableResultSettingsMap": {},
     "title": ""
    }
   },
   "outputs": [
    {
     "output_type": "stream",
     "name": "stdout",
     "output_type": "stream",
     "text": [
      "people whose income is greather than 60000 rupees:  198\n"
     ]
    }
   ],
   "source": [
    "#number of people with income greater than 60000 rupees\n",
    "sixtyk_income= loan.filter(loan[\"Income\"] > 60000).count()\n",
    "print('people whose income is greather than 60000 rupees: ', sixtyk_income)"
   ]
  },
  {
   "cell_type": "code",
   "execution_count": 0,
   "metadata": {
    "application/vnd.databricks.v1+cell": {
     "cellMetadata": {
      "byteLimit": 2048000,
      "rowLimit": 10000
     },
     "inputWidgets": {},
     "nuid": "9efc276c-fbe1-4fb7-9e48-774b02e1144c",
     "showTitle": false,
     "tableResultSettingsMap": {},
     "title": ""
    }
   },
   "outputs": [
    {
     "output_type": "stream",
     "name": "stdout",
     "output_type": "stream",
     "text": [
      "people with 2 or more returned cheques and income less than 50000: 137\n"
     ]
    }
   ],
   "source": [
    "#number of people with 2 or more returned cheques and income less than 50000\n",
    "less_than_fiftyk= loan.filter((loan[\" Returned Cheque\"]>=2) & (loan[\"Income\"]<50000)).count()\n",
    "print('people with 2 or more returned cheques and income less than 50000:',less_than_fiftyk)\n",
    "\n"
   ]
  },
  {
   "cell_type": "code",
   "execution_count": 0,
   "metadata": {
    "application/vnd.databricks.v1+cell": {
     "cellMetadata": {
      "byteLimit": 2048000,
      "rowLimit": 10000
     },
     "inputWidgets": {},
     "nuid": "142402e0-9c72-4329-9390-741d5762a3f4",
     "showTitle": false,
     "tableResultSettingsMap": {},
     "title": ""
    }
   },
   "outputs": [
    {
     "output_type": "stream",
     "name": "stdout",
     "output_type": "stream",
     "text": [
      "number of people with 2 or more returned cheques and are single: 111\n"
     ]
    }
   ],
   "source": [
    "#number of people with 2 or more returned cheques and are single\n",
    "single_and_Returned_cheque= loan.filter((loan[\" Returned Cheque\"]>=2) & (loan[\"Marital Status\"]=='SINGLE')).count()\n",
    "print('number of people with 2 or more returned cheques and are single:',single_and_Returned_cheque)"
   ]
  },
  {
   "cell_type": "code",
   "execution_count": 0,
   "metadata": {
    "application/vnd.databricks.v1+cell": {
     "cellMetadata": {
      "byteLimit": 2048000,
      "rowLimit": 10000
     },
     "inputWidgets": {},
     "nuid": "509ef3cd-335f-4be0-9d94-f6130509ee7c",
     "showTitle": false,
     "tableResultSettingsMap": {},
     "title": ""
    }
   },
   "outputs": [
    {
     "output_type": "stream",
     "name": "stdout",
     "output_type": "stream",
     "text": [
      "number of people with expenditure over 50000 a month: 6\n"
     ]
    }
   ],
   "source": [
    "#number of people with expenditure over 50000 a month\n",
    "exp_over_fivek=loan.filter(loan[\"Expenditure\"]>50000).count()\n",
    "print(\"number of people with expenditure over 50000 a month:\", exp_over_fivek)"
   ]
  },
  {
   "cell_type": "code",
   "execution_count": 0,
   "metadata": {
    "application/vnd.databricks.v1+cell": {
     "cellMetadata": {
      "byteLimit": 2048000,
      "rowLimit": 10000
     },
     "inputWidgets": {},
     "nuid": "a27767b4-85fd-45d8-ae98-38f85bbf0804",
     "showTitle": false,
     "tableResultSettingsMap": {},
     "title": ""
    }
   },
   "outputs": [
    {
     "output_type": "stream",
     "name": "stdout",
     "output_type": "stream",
     "text": [
      "number of members who are elgible for credit card: 1598\n"
     ]
    }
   ],
   "source": [
    "#number of members who are elgible for credit card\n",
    "credit_eligible=credit.filter(credit[\"CreditScore\"]>750).count()\n",
    "print(\"number of members who are elgible for credit card:\", credit_eligible)"
   ]
  },
  {
   "cell_type": "code",
   "execution_count": 0,
   "metadata": {
    "application/vnd.databricks.v1+cell": {
     "cellMetadata": {
      "byteLimit": 2048000,
      "rowLimit": 10000
     },
     "inputWidgets": {},
     "nuid": "20e17412-baa2-46a6-ab1b-3e48b8fc53aa",
     "showTitle": false,
     "tableResultSettingsMap": {},
     "title": ""
    }
   },
   "outputs": [
    {
     "output_type": "stream",
     "name": "stdout",
     "output_type": "stream",
     "text": [
      "Total credit card users in Spain: 2477\n"
     ]
    }
   ],
   "source": [
    "#credit card users in Spain\n",
    "spain_users=credit.filter(credit[\"Geography\"]=='Spain').count()\n",
    "print(\"Total credit card users in Spain:\", spain_users)\n"
   ]
  },
  {
   "cell_type": "code",
   "execution_count": 0,
   "metadata": {
    "application/vnd.databricks.v1+cell": {
     "cellMetadata": {
      "byteLimit": 2048000,
      "rowLimit": 10000
     },
     "inputWidgets": {},
     "nuid": "18443129-8fac-41eb-9d63-79ed51f1b594",
     "showTitle": false,
     "tableResultSettingsMap": {},
     "title": ""
    }
   },
   "outputs": [
    {
     "output_type": "stream",
     "name": "stdout",
     "output_type": "stream",
     "text": [
      "number of members who are elgible for credit card and active in the bank: 832\n"
     ]
    }
   ],
   "source": [
    " #number of members who are elgible for credit card and active in the bank\n",
    "active_credit= credit.filter((credit[\"CreditScore\"]>750) & (credit[\"IsActiveMember\"]=='1')).count()\n",
    "print('number of members who are elgible for credit card and active in the bank:',active_credit)\n",
    "\n"
   ]
  },
  {
   "cell_type": "code",
   "execution_count": 0,
   "metadata": {
    "application/vnd.databricks.v1+cell": {
     "cellMetadata": {
      "byteLimit": 2048000,
      "rowLimit": 10000
     },
     "inputWidgets": {},
     "nuid": "febcceed-a3e6-44d2-bf3e-16681135085e",
     "showTitle": false,
     "tableResultSettingsMap": {},
     "title": ""
    }
   },
   "outputs": [
    {
     "output_type": "stream",
     "name": "stdout",
     "output_type": "stream",
     "text": [
      "Maximum withdrawal amount in transaction: 459447546.4\n"
     ]
    }
   ],
   "source": [
    " \n",
    "#Maximum withdrawal amount in transaction\n",
    "max_withdrawl=spark.sql(\"select max(` WITHDRAWAL AMT `) as max_withdrawl_amount from txn \")\n",
    "print('Maximum withdrawal amount in transaction:', max_withdrawl.collect()[0][0])"
   ]
  },
  {
   "cell_type": "code",
   "execution_count": 0,
   "metadata": {
    "application/vnd.databricks.v1+cell": {
     "cellMetadata": {
      "byteLimit": 2048000,
      "rowLimit": 10000
     },
     "inputWidgets": {},
     "nuid": "89fb62d3-11cf-44da-b6e3-c9cbbae70f43",
     "showTitle": false,
     "tableResultSettingsMap": {},
     "title": ""
    }
   },
   "outputs": [
    {
     "output_type": "stream",
     "name": "stdout",
     "output_type": "stream",
     "text": [
      "Min withdrawal amount in transaction: 0.01\n"
     ]
    }
   ],
   "source": [
    "#MINIMUM WITHDRAWAL AMOUNT OF AN ACCOUNT in txn\n",
    "min_withdrawl=spark.sql(\"select min(` WITHDRAWAL AMT `) as min_withdrawl_amount from txn \")\n",
    "print('Min withdrawal amount in transaction:', min_withdrawl.collect()[0][0])\n"
   ]
  },
  {
   "cell_type": "code",
   "execution_count": 0,
   "metadata": {
    "application/vnd.databricks.v1+cell": {
     "cellMetadata": {
      "byteLimit": 2048000,
      "rowLimit": 10000
     },
     "inputWidgets": {},
     "nuid": "c78ae824-9de4-4386-a059-40d08f82dfb4",
     "showTitle": false,
     "tableResultSettingsMap": {},
     "title": ""
    }
   },
   "outputs": [
    {
     "output_type": "stream",
     "name": "stdout",
     "output_type": "stream",
     "text": [
      "Maximum deposit amount of an account: 544800000.0\n"
     ]
    }
   ],
   "source": [
    "#MAXIMUM DEPOSIT AMOUNT OF AN ACCOUNT\n",
    "max_deposit=spark.sql(\"select max(` DEPOSIT AMT `) as max_deposit_amount from txn \")\n",
    "print('Maximum deposit amount of an account:', max_deposit.collect()[0][0])\n",
    " "
   ]
  },
  {
   "cell_type": "code",
   "execution_count": 0,
   "metadata": {
    "application/vnd.databricks.v1+cell": {
     "cellMetadata": {
      "byteLimit": 2048000,
      "rowLimit": 10000
     },
     "inputWidgets": {},
     "nuid": "2d5f57b1-4a59-48b5-9432-82f87fabe3d2",
     "showTitle": false,
     "tableResultSettingsMap": {},
     "title": ""
    }
   },
   "outputs": [
    {
     "output_type": "stream",
     "name": "stdout",
     "output_type": "stream",
     "text": [
      "Minimum deposit amount of an account: 0.01\n"
     ]
    }
   ],
   "source": [
    "#MINIMUM DEPOSIT AMOUNT OF AN ACCOUNT\n",
    "min_deposit=spark.sql(\"select min(` DEPOSIT AMT `) as min_deposit_amount from txn \")\n",
    "print('Minimum deposit amount of an account:', min_deposit.collect()[0][0])\n",
    " "
   ]
  },
  {
   "cell_type": "code",
   "execution_count": 0,
   "metadata": {
    "application/vnd.databricks.v1+cell": {
     "cellMetadata": {},
     "inputWidgets": {},
     "nuid": "925826d1-6a9a-49b0-8580-af58d39b5c79",
     "showTitle": false,
     "tableResultSettingsMap": {},
     "title": ""
    }
   },
   "outputs": [],
   "source": []
  }
 ],
 "metadata": {
  "application/vnd.databricks.v1+notebook": {
   "dashboards": [],
   "environmentMetadata": null,
   "language": "python",
   "notebookMetadata": {
    "pythonIndentUnit": 4
   },
   "notebookName": "Pyspark Case Study",
   "widgets": {}
  }
 },
 "nbformat": 4,
 "nbformat_minor": 0
}
