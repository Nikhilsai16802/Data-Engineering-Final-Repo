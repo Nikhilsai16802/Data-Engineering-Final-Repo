{
 "cells": [
  {
   "cell_type": "code",
   "execution_count": 0,
   "metadata": {
    "application/vnd.databricks.v1+cell": {
     "cellMetadata": {
      "byteLimit": 2048000,
      "rowLimit": 10000
     },
     "inputWidgets": {},
     "nuid": "cf58ee50-f67d-4d2b-ae5b-8e82a60fb232",
     "showTitle": false,
     "tableResultSettingsMap": {},
     "title": ""
    }
   },
   "outputs": [
    {
     "output_type": "stream",
     "name": "stdout",
     "output_type": "stream",
     "text": [
      "ETL Pipeline completed successfully!\n"
     ]
    }
   ],
   "source": [
    "\n",
    "from pyspark.sql import SparkSession\n",
    "from pyspark.sql.functions import col, lit\n",
    "\n",
    "spark = SparkSession.builder.appName(\"ETL Pipeline\").getOrCreate()\n",
    "\n",
    "# Step 1: Extract\n",
    "input_file_path = \"dbfs:/user/hive/warehouse/export_1_csv\"\n",
    "source_df = spark.read.format(\"delta\").option(\"header\", \"true\").option(\"inferSchema\", \"true\").load(input_file_path)\n",
    "\n",
    "# Step 2: Transform  \n",
    "#Example 1: filetring rows \n",
    "filtered_df = source_df.filter(col(\"salary\") > 25000)\n",
    "\n",
    "# Example 2: Add a new column `status` with a default value\n",
    "transformed_df = filtered_df.withColumn(\"status\", lit(\"active\"))\n",
    "\n",
    "# Example 3: Select specific columns\n",
    "final_df = transformed_df.select(\"id\", \"FirstName\", \"gender\", \"salary\")\n",
    "\n",
    "# Step 3: Load  \n",
    " \n",
    "final_df.write.format('delta').saveAsTable(\"load_file\", mode='overwrite')\n",
    "\n",
    "# Print Success Message\n",
    "print(\"ETL Pipeline completed successfully!\")\n"
   ]
  },
  {
   "cell_type": "code",
   "execution_count": 0,
   "metadata": {
    "application/vnd.databricks.v1+cell": {
     "cellMetadata": {
      "byteLimit": 2048000,
      "rowLimit": 10000
     },
     "inputWidgets": {},
     "nuid": "e023a10b-1f81-4de8-bde3-62b67f65aee6",
     "showTitle": false,
     "tableResultSettingsMap": {},
     "title": ""
    }
   },
   "outputs": [
    {
     "output_type": "stream",
     "name": "stdout",
     "output_type": "stream",
     "text": [
      "+--------------+\n|  databaseName|\n+--------------+\n|       default|\n|delta_training|\n+--------------+\n\n"
     ]
    }
   ],
   "source": [
    "spark.sql(\"SHOW DATABASES\").show()"
   ]
  },
  {
   "cell_type": "code",
   "execution_count": 0,
   "metadata": {
    "application/vnd.databricks.v1+cell": {
     "cellMetadata": {},
     "inputWidgets": {},
     "nuid": "d927e705-0a0b-455d-9fa7-d8f07e06f313",
     "showTitle": false,
     "tableResultSettingsMap": {},
     "title": ""
    }
   },
   "outputs": [],
   "source": []
  }
 ],
 "metadata": {
  "application/vnd.databricks.v1+notebook": {
   "computePreferences": null,
   "dashboards": [],
   "environmentMetadata": {
    "base_environment": "",
    "client": "1"
   },
   "language": "python",
   "notebookMetadata": {
    "pythonIndentUnit": 4
   },
   "notebookName": "ETL pipeline",
   "widgets": {}
  },
  "language_info": {
   "name": "python"
  }
 },
 "nbformat": 4,
 "nbformat_minor": 0
}