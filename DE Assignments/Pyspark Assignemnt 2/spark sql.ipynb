{
 "cells": [
  {
   "cell_type": "code",
   "execution_count": 0,
   "metadata": {
    "application/vnd.databricks.v1+cell": {
     "cellMetadata": {
      "byteLimit": 2048000,
      "rowLimit": 10000
     },
     "inputWidgets": {},
     "nuid": "384f2cbc-4388-4639-846a-d77657b0e0e8",
     "showTitle": false,
     "tableResultSettingsMap": {},
     "title": ""
    }
   },
   "outputs": [
    {
     "output_type": "display_data",
     "data": {
      "text/html": [
       "<style scoped>\n",
       "  .table-result-container {\n",
       "    max-height: 300px;\n",
       "    overflow: auto;\n",
       "  }\n",
       "  table, th, td {\n",
       "    border: 1px solid black;\n",
       "    border-collapse: collapse;\n",
       "  }\n",
       "  th, td {\n",
       "    padding: 5px;\n",
       "  }\n",
       "  th {\n",
       "    text-align: left;\n",
       "  }\n",
       "</style><div class='table-result-container'><table class='table-result'><thead style='background-color: white'><tr><th>RecordNumber</th><th>Country</th><th>City</th><th>Zipcode</th><th>State</th></tr></thead><tbody><tr><td>1</td><td>US</td><td>PARC PARQUE</td><td>704</td><td>PR</td></tr><tr><td>2</td><td>US</td><td>PASEO COSTA DEL SUR</td><td>704</td><td>PR</td></tr><tr><td>10</td><td>US</td><td>BDA SAN LUIS</td><td>709</td><td>PR</td></tr><tr><td>49347</td><td>US</td><td>HOLT</td><td>32564</td><td>FL</td></tr><tr><td>49348</td><td>US</td><td>HOMOSASSA</td><td>34487</td><td>FL</td></tr><tr><td>61391</td><td>US</td><td>CINGULAR WIRELESS</td><td>76166</td><td>TX</td></tr><tr><td>61392</td><td>US</td><td>FORT WORTH</td><td>76177</td><td>TX</td></tr><tr><td>61393</td><td>US</td><td>FT WORTH</td><td>76177</td><td>TX</td></tr><tr><td>54356</td><td>US</td><td>SPRUCE PINE</td><td>35585</td><td>AL</td></tr><tr><td>76511</td><td>US</td><td>ASH HILL</td><td>27007</td><td>NC</td></tr><tr><td>4</td><td>US</td><td>URB EUGENE RICE</td><td>704</td><td>PR</td></tr><tr><td>39827</td><td>US</td><td>MESA</td><td>85209</td><td>AZ</td></tr><tr><td>39828</td><td>US</td><td>MESA</td><td>85210</td><td>AZ</td></tr><tr><td>49345</td><td>US</td><td>HILLIARD</td><td>32046</td><td>FL</td></tr><tr><td>49346</td><td>US</td><td>HOLDER</td><td>34445</td><td>FL</td></tr><tr><td>3</td><td>US</td><td>SECT LANAUSSE</td><td>704</td><td>PR</td></tr><tr><td>54354</td><td>US</td><td>SPRING GARDEN</td><td>36275</td><td>AL</td></tr><tr><td>54355</td><td>US</td><td>SPRINGVILLE</td><td>35146</td><td>AL</td></tr><tr><td>76512</td><td>US</td><td>ASHEBORO</td><td>27203</td><td>NC</td></tr><tr><td>76513</td><td>US</td><td>ASHEBORO</td><td>27204</td><td>NC</td></tr></tbody></table></div>"
      ]
     },
     "metadata": {
      "application/vnd.databricks.v1+output": {
       "addedWidgets": {},
       "aggData": [],
       "aggError": "",
       "aggOverflow": false,
       "aggSchema": [],
       "aggSeriesLimitReached": false,
       "aggType": "",
       "arguments": {},
       "columnCustomDisplayInfos": {},
       "data": [
        [
         "1",
         "US",
         "PARC PARQUE",
         "704",
         "PR"
        ],
        [
         "2",
         "US",
         "PASEO COSTA DEL SUR",
         "704",
         "PR"
        ],
        [
         "10",
         "US",
         "BDA SAN LUIS",
         "709",
         "PR"
        ],
        [
         "49347",
         "US",
         "HOLT",
         "32564",
         "FL"
        ],
        [
         "49348",
         "US",
         "HOMOSASSA",
         "34487",
         "FL"
        ],
        [
         "61391",
         "US",
         "CINGULAR WIRELESS",
         "76166",
         "TX"
        ],
        [
         "61392",
         "US",
         "FORT WORTH",
         "76177",
         "TX"
        ],
        [
         "61393",
         "US",
         "FT WORTH",
         "76177",
         "TX"
        ],
        [
         "54356",
         "US",
         "SPRUCE PINE",
         "35585",
         "AL"
        ],
        [
         "76511",
         "US",
         "ASH HILL",
         "27007",
         "NC"
        ],
        [
         "4",
         "US",
         "URB EUGENE RICE",
         "704",
         "PR"
        ],
        [
         "39827",
         "US",
         "MESA",
         "85209",
         "AZ"
        ],
        [
         "39828",
         "US",
         "MESA",
         "85210",
         "AZ"
        ],
        [
         "49345",
         "US",
         "HILLIARD",
         "32046",
         "FL"
        ],
        [
         "49346",
         "US",
         "HOLDER",
         "34445",
         "FL"
        ],
        [
         "3",
         "US",
         "SECT LANAUSSE",
         "704",
         "PR"
        ],
        [
         "54354",
         "US",
         "SPRING GARDEN",
         "36275",
         "AL"
        ],
        [
         "54355",
         "US",
         "SPRINGVILLE",
         "35146",
         "AL"
        ],
        [
         "76512",
         "US",
         "ASHEBORO",
         "27203",
         "NC"
        ],
        [
         "76513",
         "US",
         "ASHEBORO",
         "27204",
         "NC"
        ]
       ],
       "datasetInfos": [],
       "dbfsResultPath": null,
       "isJsonSchema": true,
       "metadata": {},
       "overflow": false,
       "plotOptions": {
        "customPlotOptions": {},
        "displayType": "table",
        "pivotAggregation": null,
        "pivotColumns": null,
        "xColumns": null,
        "yColumns": null
       },
       "removedWidgets": [],
       "schema": [
        {
         "metadata": "{}",
         "name": "RecordNumber",
         "type": "\"string\""
        },
        {
         "metadata": "{}",
         "name": "Country",
         "type": "\"string\""
        },
        {
         "metadata": "{}",
         "name": "City",
         "type": "\"string\""
        },
        {
         "metadata": "{}",
         "name": "Zipcode",
         "type": "\"string\""
        },
        {
         "metadata": "{}",
         "name": "State",
         "type": "\"string\""
        }
       ],
       "type": "table"
      }
     },
     "output_type": "display_data"
    }
   ],
   "source": [
    "spark =SparkSession.builder.appName('sql example program').getOrCreate()\n",
    "df = spark.read.csv(\"/FileStore/tables/simple_zipcodes-1.csv\", header=True, inferSchema=False, sep=\",\")\n",
    "\n",
    "display(df)\n",
    "df.createOrReplaceTempView(\"tempdata\")"
   ]
  },
  {
   "cell_type": "code",
   "execution_count": 0,
   "metadata": {
    "application/vnd.databricks.v1+cell": {
     "cellMetadata": {
      "byteLimit": 2048000,
      "rowLimit": 10000
     },
     "inputWidgets": {},
     "nuid": "8f97e9b3-ee3b-4322-87fb-aa37e8fb1d2b",
     "showTitle": false,
     "tableResultSettingsMap": {},
     "title": ""
    }
   },
   "outputs": [
    {
     "output_type": "stream",
     "name": "stdout",
     "output_type": "stream",
     "text": [
      "+------------+-------+-------------------+-------+-----+\n|RecordNumber|Country|               City|Zipcode|State|\n+------------+-------+-------------------+-------+-----+\n|           1|     US|        PARC PARQUE|    704|   PR|\n|           2|     US|PASEO COSTA DEL SUR|    704|   PR|\n|          10|     US|       BDA SAN LUIS|    709|   PR|\n|       49347|     US|               HOLT|  32564|   FL|\n|       49348|     US|          HOMOSASSA|  34487|   FL|\n|       61391|     US|  CINGULAR WIRELESS|  76166|   TX|\n|       61392|     US|         FORT WORTH|  76177|   TX|\n|       61393|     US|           FT WORTH|  76177|   TX|\n|       54356|     US|        SPRUCE PINE|  35585|   AL|\n|       76511|     US|           ASH HILL|  27007|   NC|\n|           4|     US|    URB EUGENE RICE|    704|   PR|\n|       39827|     US|               MESA|  85209|   AZ|\n|       39828|     US|               MESA|  85210|   AZ|\n|       49345|     US|           HILLIARD|  32046|   FL|\n|       49346|     US|             HOLDER|  34445|   FL|\n|           3|     US|      SECT LANAUSSE|    704|   PR|\n|       54354|     US|      SPRING GARDEN|  36275|   AL|\n|       54355|     US|        SPRINGVILLE|  35146|   AL|\n|       76512|     US|           ASHEBORO|  27203|   NC|\n|       76513|     US|           ASHEBORO|  27204|   NC|\n+------------+-------+-------------------+-------+-----+\n\n+------------+-------+\n|RecordNumber|Country|\n+------------+-------+\n|           1|     US|\n|           2|     US|\n|          10|     US|\n|       49347|     US|\n|       49348|     US|\n+------------+-------+\nonly showing top 5 rows\n\n"
     ]
    }
   ],
   "source": [
    "spark.sql(\"select * from tempdata\").show()\n",
    "df.select(\"RecordNumber\",\"Country\").show(5)"
   ]
  },
  {
   "cell_type": "code",
   "execution_count": 0,
   "metadata": {
    "application/vnd.databricks.v1+cell": {
     "cellMetadata": {
      "byteLimit": 2048000,
      "rowLimit": 10000
     },
     "inputWidgets": {},
     "nuid": "1fbf8972-2c85-460d-9540-be0ebeebc985",
     "showTitle": false,
     "tableResultSettingsMap": {},
     "title": ""
    }
   },
   "outputs": [
    {
     "output_type": "stream",
     "name": "stdout",
     "output_type": "stream",
     "text": [
      "+------------+-------+----+-------+-----+\n|RecordNumber|Country|City|Zipcode|State|\n+------------+-------+----+-------+-----+\n|       39827|     US|MESA|  85209|   AZ|\n|       39828|     US|MESA|  85210|   AZ|\n+------------+-------+----+-------+-----+\n\n"
     ]
    }
   ],
   "source": [
    "spark.sql(\"\"\"SELECT * From tempdata WHERE State='AZ'\"\"\").show(5)"
   ]
  },
  {
   "cell_type": "code",
   "execution_count": 0,
   "metadata": {
    "application/vnd.databricks.v1+cell": {
     "cellMetadata": {
      "byteLimit": 2048000,
      "rowLimit": 10000
     },
     "inputWidgets": {},
     "nuid": "e58f682b-8b7a-4f59-af48-61e98bd6693d",
     "showTitle": false,
     "tableResultSettingsMap": {},
     "title": ""
    }
   },
   "outputs": [
    {
     "output_type": "display_data",
     "data": {
      "text/html": [
       "<style scoped>\n",
       "  .table-result-container {\n",
       "    max-height: 300px;\n",
       "    overflow: auto;\n",
       "  }\n",
       "  table, th, td {\n",
       "    border: 1px solid black;\n",
       "    border-collapse: collapse;\n",
       "  }\n",
       "  th, td {\n",
       "    padding: 5px;\n",
       "  }\n",
       "  th {\n",
       "    text-align: left;\n",
       "  }\n",
       "</style><div class='table-result-container'><table class='table-result'><thead style='background-color: white'><tr><th>RecordNumber</th><th>Country</th><th>City</th><th>Zipcode</th><th>State</th></tr></thead><tbody><tr><td>1</td><td>US</td><td>PARC PARQUE</td><td>704</td><td>PR</td></tr><tr><td>2</td><td>US</td><td>PASEO COSTA DEL SUR</td><td>704</td><td>PR</td></tr><tr><td>10</td><td>US</td><td>BDA SAN LUIS</td><td>709</td><td>PR</td></tr><tr><td>49347</td><td>US</td><td>HOLT</td><td>32564</td><td>FL</td></tr><tr><td>49348</td><td>US</td><td>HOMOSASSA</td><td>34487</td><td>FL</td></tr><tr><td>61391</td><td>US</td><td>CINGULAR WIRELESS</td><td>76166</td><td>TX</td></tr><tr><td>61392</td><td>US</td><td>FORT WORTH</td><td>76177</td><td>TX</td></tr><tr><td>61393</td><td>US</td><td>FT WORTH</td><td>76177</td><td>TX</td></tr><tr><td>54356</td><td>US</td><td>SPRUCE PINE</td><td>35585</td><td>AL</td></tr><tr><td>76511</td><td>US</td><td>ASH HILL</td><td>27007</td><td>NC</td></tr><tr><td>4</td><td>US</td><td>URB EUGENE RICE</td><td>704</td><td>PR</td></tr><tr><td>39827</td><td>US</td><td>MESA</td><td>85209</td><td>AZ</td></tr><tr><td>39828</td><td>US</td><td>MESA</td><td>85210</td><td>AZ</td></tr><tr><td>49345</td><td>US</td><td>HILLIARD</td><td>32046</td><td>FL</td></tr><tr><td>49346</td><td>US</td><td>HOLDER</td><td>34445</td><td>FL</td></tr><tr><td>3</td><td>US</td><td>SECT LANAUSSE</td><td>704</td><td>PR</td></tr><tr><td>54354</td><td>US</td><td>SPRING GARDEN</td><td>36275</td><td>AL</td></tr><tr><td>54355</td><td>US</td><td>SPRINGVILLE</td><td>35146</td><td>AL</td></tr><tr><td>76512</td><td>US</td><td>ASHEBORO</td><td>27203</td><td>NC</td></tr><tr><td>76513</td><td>US</td><td>ASHEBORO</td><td>27204</td><td>NC</td></tr></tbody></table></div>"
      ]
     },
     "metadata": {
      "application/vnd.databricks.v1+output": {
       "addedWidgets": {},
       "aggData": [],
       "aggError": "",
       "aggOverflow": false,
       "aggSchema": [],
       "aggSeriesLimitReached": false,
       "aggType": "",
       "arguments": {},
       "columnCustomDisplayInfos": {},
       "data": [
        [
         "1",
         "US",
         "PARC PARQUE",
         "704",
         "PR"
        ],
        [
         "2",
         "US",
         "PASEO COSTA DEL SUR",
         "704",
         "PR"
        ],
        [
         "10",
         "US",
         "BDA SAN LUIS",
         "709",
         "PR"
        ],
        [
         "49347",
         "US",
         "HOLT",
         "32564",
         "FL"
        ],
        [
         "49348",
         "US",
         "HOMOSASSA",
         "34487",
         "FL"
        ],
        [
         "61391",
         "US",
         "CINGULAR WIRELESS",
         "76166",
         "TX"
        ],
        [
         "61392",
         "US",
         "FORT WORTH",
         "76177",
         "TX"
        ],
        [
         "61393",
         "US",
         "FT WORTH",
         "76177",
         "TX"
        ],
        [
         "54356",
         "US",
         "SPRUCE PINE",
         "35585",
         "AL"
        ],
        [
         "76511",
         "US",
         "ASH HILL",
         "27007",
         "NC"
        ],
        [
         "4",
         "US",
         "URB EUGENE RICE",
         "704",
         "PR"
        ],
        [
         "39827",
         "US",
         "MESA",
         "85209",
         "AZ"
        ],
        [
         "39828",
         "US",
         "MESA",
         "85210",
         "AZ"
        ],
        [
         "49345",
         "US",
         "HILLIARD",
         "32046",
         "FL"
        ],
        [
         "49346",
         "US",
         "HOLDER",
         "34445",
         "FL"
        ],
        [
         "3",
         "US",
         "SECT LANAUSSE",
         "704",
         "PR"
        ],
        [
         "54354",
         "US",
         "SPRING GARDEN",
         "36275",
         "AL"
        ],
        [
         "54355",
         "US",
         "SPRINGVILLE",
         "35146",
         "AL"
        ],
        [
         "76512",
         "US",
         "ASHEBORO",
         "27203",
         "NC"
        ],
        [
         "76513",
         "US",
         "ASHEBORO",
         "27204",
         "NC"
        ]
       ],
       "datasetInfos": [],
       "dbfsResultPath": null,
       "isJsonSchema": true,
       "metadata": {},
       "overflow": false,
       "plotOptions": {
        "customPlotOptions": {},
        "displayType": "table",
        "pivotAggregation": null,
        "pivotColumns": null,
        "xColumns": null,
        "yColumns": null
       },
       "removedWidgets": [],
       "schema": [
        {
         "metadata": "{}",
         "name": "RecordNumber",
         "type": "\"string\""
        },
        {
         "metadata": "{}",
         "name": "Country",
         "type": "\"string\""
        },
        {
         "metadata": "{}",
         "name": "City",
         "type": "\"string\""
        },
        {
         "metadata": "{}",
         "name": "Zipcode",
         "type": "\"string\""
        },
        {
         "metadata": "{}",
         "name": "State",
         "type": "\"string\""
        }
       ],
       "type": "table"
      }
     },
     "output_type": "display_data"
    }
   ],
   "source": [
    "\n",
    "df.createOrReplaceTempView(\"tempdata\")\n",
    "df.display()"
   ]
  },
  {
   "cell_type": "code",
   "execution_count": 0,
   "metadata": {
    "application/vnd.databricks.v1+cell": {
     "cellMetadata": {
      "byteLimit": 2048000,
      "rowLimit": 10000
     },
     "inputWidgets": {},
     "nuid": "4e5c9913-2967-440b-ac12-cf1a5140a33e",
     "showTitle": false,
     "tableResultSettingsMap": {},
     "title": ""
    }
   },
   "outputs": [
    {
     "output_type": "stream",
     "name": "stdout",
     "output_type": "stream",
     "text": [
      "+------------+-------+-------------------+-------+-----+\n|RecordNumber|Country|               City|Zipcode|State|\n+------------+-------+-------------------+-------+-----+\n|           1|     US|        PARC PARQUE|    704|   PR|\n|           2|     US|PASEO COSTA DEL SUR|    704|   PR|\n|          10|     US|       BDA SAN LUIS|    709|   PR|\n|       49347|     US|               HOLT|  32564|   FL|\n|       49348|     US|          HOMOSASSA|  34487|   FL|\n|       61391|     US|  CINGULAR WIRELESS|  76166|   TX|\n|       61392|     US|         FORT WORTH|  76177|   TX|\n|       61393|     US|           FT WORTH|  76177|   TX|\n|       54356|     US|        SPRUCE PINE|  35585|   AL|\n|       76511|     US|           ASH HILL|  27007|   NC|\n|           4|     US|    URB EUGENE RICE|    704|   PR|\n|       39827|     US|               MESA|  85209|   AZ|\n|       39828|     US|               MESA|  85210|   AZ|\n|       49345|     US|           HILLIARD|  32046|   FL|\n|       49346|     US|             HOLDER|  34445|   FL|\n|           3|     US|      SECT LANAUSSE|    704|   PR|\n|       54354|     US|      SPRING GARDEN|  36275|   AL|\n|       54355|     US|        SPRINGVILLE|  35146|   AL|\n|       76512|     US|           ASHEBORO|  27203|   NC|\n|       76513|     US|           ASHEBORO|  27204|   NC|\n+------------+-------+-------------------+-------+-----+\n\n+------------+-------+\n|RecordNumber|Country|\n+------------+-------+\n|           1|     US|\n|           2|     US|\n|          10|     US|\n|       49347|     US|\n|       49348|     US|\n+------------+-------+\nonly showing top 5 rows\n\n"
     ]
    }
   ],
   "source": [
    "spark.sql(\"select * from customer\").show()\n",
    "df.select(\"RecordNumber\",\"Country\").show(5)"
   ]
  },
  {
   "cell_type": "code",
   "execution_count": 0,
   "metadata": {
    "application/vnd.databricks.v1+cell": {
     "cellMetadata": {
      "byteLimit": 2048000,
      "rowLimit": 10000
     },
     "inputWidgets": {},
     "nuid": "0b96fe08-f6f1-430f-b569-57db9f004f5c",
     "showTitle": false,
     "tableResultSettingsMap": {},
     "title": ""
    }
   },
   "outputs": [
    {
     "output_type": "stream",
     "name": "stdout",
     "output_type": "stream",
     "text": [
      "+------------+-------+-------------------+-------+-----+\n|RecordNumber|Country|               City|Zipcode|State|\n+------------+-------+-------------------+-------+-----+\n|           1|     US|        PARC PARQUE|    704|   PR|\n|           2|     US|PASEO COSTA DEL SUR|    704|   PR|\n|          10|     US|       BDA SAN LUIS|    709|   PR|\n|           4|     US|    URB EUGENE RICE|    704|   PR|\n|           3|     US|      SECT LANAUSSE|    704|   PR|\n+------------+-------+-------------------+-------+-----+\n\n"
     ]
    }
   ],
   "source": [
    "spark.sql(\"\"\"SELECT * From customer WHERE state='PR'\"\"\").show(5)"
   ]
  },
  {
   "cell_type": "code",
   "execution_count": 0,
   "metadata": {
    "application/vnd.databricks.v1+cell": {
     "cellMetadata": {
      "byteLimit": 2048000,
      "rowLimit": 10000
     },
     "inputWidgets": {},
     "nuid": "048772f8-eee5-4463-b0ed-859fe537d6f0",
     "showTitle": false,
     "tableResultSettingsMap": {},
     "title": ""
    }
   },
   "outputs": [
    {
     "output_type": "stream",
     "name": "stdout",
     "output_type": "stream",
     "text": [
      "+------------+-------+-------------------+-------+-----+\n|RecordNumber|Country|               City|Zipcode|State|\n+------------+-------+-------------------+-------+-----+\n|       39827|     US|               MESA|  85209|   AZ|\n|       39828|     US|               MESA|  85210|   AZ|\n|       49347|     US|               HOLT|  32564|   FL|\n|       49348|     US|          HOMOSASSA|  34487|   FL|\n|       49345|     US|           HILLIARD|  32046|   FL|\n|       49346|     US|             HOLDER|  34445|   FL|\n|           1|     US|        PARC PARQUE|    704|   PR|\n|           2|     US|PASEO COSTA DEL SUR|    704|   PR|\n|          10|     US|       BDA SAN LUIS|    709|   PR|\n|           4|     US|    URB EUGENE RICE|    704|   PR|\n+------------+-------+-------------------+-------+-----+\nonly showing top 10 rows\n\n"
     ]
    }
   ],
   "source": [
    "spark.sql(\"\"\"select * FROM customer WHERE state in ('PR','AZ','FL')order by state \"\"\").show(10)\n",
    "                                                                                            "
   ]
  },
  {
   "cell_type": "code",
   "execution_count": 0,
   "metadata": {
    "application/vnd.databricks.v1+cell": {
     "cellMetadata": {
      "byteLimit": 2048000,
      "rowLimit": 10000
     },
     "inputWidgets": {},
     "nuid": "6a44bd19-94bd-45d5-8f83-61e56ba9e3ab",
     "showTitle": false,
     "tableResultSettingsMap": {},
     "title": ""
    }
   },
   "outputs": [
    {
     "output_type": "stream",
     "name": "stdout",
     "output_type": "stream",
     "text": [
      "+-----+-----+\n|state|count|\n+-----+-----+\n|   AZ|    2|\n|   NC|    3|\n|   AL|    3|\n|   TX|    3|\n|   FL|    4|\n|   PR|    5|\n+-----+-----+\n\n"
     ]
    }
   ],
   "source": [
    "spark.sql(\"\"\"SELECT state,count(*) as count FROM customer GROUP BY state\"\"\").show()"
   ]
  }
 ],
 "metadata": {
  "application/vnd.databricks.v1+notebook": {
   "dashboards": [],
   "environmentMetadata": null,
   "language": "python",
   "notebookMetadata": {
    "pythonIndentUnit": 4
   },
   "notebookName": "spark sql",
   "widgets": {}
  }
 },
 "nbformat": 4,
 "nbformat_minor": 0
}
